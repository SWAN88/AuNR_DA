{
 "cells": [
  {
   "cell_type": "markdown",
   "id": "310a69c1-e6e5-45b6-93b5-ec1e156bbd26",
   "metadata": {},
   "source": [
    "# 052324 Figures "
   ]
  },
  {
   "cell_type": "code",
   "execution_count": 2,
   "id": "91c7cd01-a86a-4cf6-9836-95f961852070",
   "metadata": {
    "tags": []
   },
   "outputs": [],
   "source": [
    "import sys\n",
    "# add path for my packages\n",
    "sys.path.append('C:\\\\Users\\\\katsuya2\\\\OneDrive - University of Illinois - Urbana\\\\Documents\\\\Python Scripts\\\\my_packages')\n",
    "import re\n",
    "import os\n",
    "import shutil\n",
    "import numpy as np\n",
    "import pandas as pd\n",
    "import matplotlib.pyplot as plt\n",
    "import scipy\n",
    "import ast\n",
    "from scipy import optimize\n",
    "from scipy.optimize import curve_fit\n",
    "from scipy.stats import norm\n",
    "from mpl_toolkits.axes_grid1.inset_locator import inset_axes\n",
    "from tqdm import tqdm\n",
    "from pathlib import Path\n",
    "from glob import glob\n",
    "%precision 3\n",
    "%matplotlib inline\n",
    "\n",
    "# use my matplotlib style\n",
    "style_p = Path(\"C:/Users/katsuya2/OneDrive - University of Illinois - Urbana/Documents/Python Scripts/my_packages\")\n",
    "plt.style.use(Path(style_p, 'my_rc_setting.mplstyle'))\n",
    "\n",
    "import Lorentzian"
   ]
  },
  {
   "cell_type": "markdown",
   "id": "f83da27d-94f6-4ccb-904e-55535298b9df",
   "metadata": {},
   "source": [
    "## Input necessary data"
   ]
  },
  {
   "cell_type": "code",
   "execution_count": 3,
   "id": "c798c10c-eac6-404c-82a0-ebabeeb10166",
   "metadata": {
    "tags": []
   },
   "outputs": [],
   "source": [
    "p = Path(\"C:/Users/katsuya2/OneDrive - University of Illinois - Urbana/Documents/Python Scripts/input_data/SPP2023\")\n",
    "\n",
    "# all glass data\n",
    "glass_data = pd.read_csv(Path(p, '090723_glass_training.csv'))\n",
    "glass_data['ratio'] = glass_data['length'] / glass_data['width']\n",
    "glass_data = glass_data.drop(['corrcoef'], axis=1)\n",
    "\n",
    "# all ITO data\n",
    "ito_data = pd.read_csv(Path(p, '111623_ito_training.csv'))\n",
    "ito_data['ratio'] = ito_data['length'] / ito_data['width']\n",
    "ito_data = ito_data.drop(['corrcoef'], axis=1)\n",
    "\n",
    "# define input and output\n",
    "X_glass = glass_data.drop(['width', 'length', 'imax', 'ratio'], axis=1)\n",
    "yw_glass = glass_data['width']\n",
    "yl_glass = glass_data['length']\n",
    "\n",
    "# define input and output\n",
    "X_ito = ito_data.drop(['width', 'length', 'imax', 'ratio'], axis=1)\n",
    "yw_ito = ito_data['width']\n",
    "yl_ito = ito_data['length']"
   ]
  },
  {
   "cell_type": "code",
   "execution_count": 4,
   "id": "54389d59-65db-4da2-9b86-35d865af58c5",
   "metadata": {
    "tags": []
   },
   "outputs": [],
   "source": [
    "# define testing data from actual experiments\n",
    "exp_glass_data = pd.read_csv(Path(p, '100323_ZJ_exp_glass_final.csv'))\n",
    "exp_ito_data = pd.read_csv(Path(p, '100323_ZJ_exp_ito_final.csv'))\n",
    "exp_ito_data = exp_ito_data.drop(47)\n",
    "exp_ito_data = exp_ito_data.reset_index(drop=True)\n",
    "\n",
    "# create the specific number of data\n",
    "exp_glass_data = exp_glass_data.sample(50, random_state=4)\n",
    "exp_ito_data = exp_ito_data.sample(50, random_state=4)\n",
    "\n",
    "X_exp_glass = exp_glass_data.drop(['exp_ene', 'exp_dfs', 'imax', 'width', 'length', 'fitting', 'aspect_ratio', 'volume', 'surface_area'], axis=1)\n",
    "X_exp_glass['nsub'] = 1.52\n",
    "yw_exp_glass = exp_glass_data['width']\n",
    "yl_exp_glass = exp_glass_data['length']\n",
    "\n",
    "X_exp_ito = exp_ito_data.drop(['exp_ene', 'exp_dfs', 'imax', 'width', 'length', 'fitting', 'aspect_ratio', 'volume', 'surface_area'], axis=1)\n",
    "X_exp_ito['nsub'] = 1.975\n",
    "yw_exp_ito = exp_ito_data['width']\n",
    "yl_exp_ito = exp_ito_data['length']"
   ]
  },
  {
   "cell_type": "markdown",
   "id": "05eed411-c4bb-4ce8-8c15-fd74e48cd0dc",
   "metadata": {},
   "source": [
    "## Figure 1"
   ]
  },
  {
   "cell_type": "code",
   "execution_count": null,
   "id": "23fac1b1-1a3b-4b13-ba9f-e990ba983ec9",
   "metadata": {},
   "outputs": [],
   "source": []
  }
 ],
 "metadata": {
  "kernelspec": {
   "display_name": "Python 3 (ipykernel)",
   "language": "python",
   "name": "python3"
  },
  "language_info": {
   "codemirror_mode": {
    "name": "ipython",
    "version": 3
   },
   "file_extension": ".py",
   "mimetype": "text/x-python",
   "name": "python",
   "nbconvert_exporter": "python",
   "pygments_lexer": "ipython3",
   "version": "3.11.5"
  }
 },
 "nbformat": 4,
 "nbformat_minor": 5
}
