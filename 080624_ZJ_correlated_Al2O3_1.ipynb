{
 "cells": [
  {
   "cell_type": "markdown",
   "id": "579ea883-3bda-43ef-a0c8-ca358c01393e",
   "metadata": {},
   "source": [
    "# ZJ Al2O3 Part1"
   ]
  },
  {
   "cell_type": "code",
   "execution_count": 1,
   "id": "c9f369c1-369d-4514-9f5d-cd33d0a4e13d",
   "metadata": {
    "tags": []
   },
   "outputs": [],
   "source": [
    "import sys\n",
    "# add path for my packages\n",
    "sys.path.append('C:\\\\Users\\\\katsuya2\\\\OneDrive - University of Illinois - Urbana\\\\Documents\\\\Python Scripts\\\\my_packages')\n",
    "\n",
    "import re\n",
    "import os\n",
    "import shutil\n",
    "import numpy as np\n",
    "import pandas as pd\n",
    "import matplotlib.pyplot as plt\n",
    "import seaborn as sns\n",
    "import ast\n",
    "import scipy\n",
    "from scipy import stats\n",
    "from scipy.stats import norm\n",
    "\n",
    "from sklearn.metrics import mean_squared_error\n",
    "from tqdm import tqdm\n",
    "from pathlib import Path\n",
    "from glob import glob\n",
    "%precision 3\n",
    "%matplotlib inline\n",
    "\n",
    "# use my matplotlib style\n",
    "style_p = Path(\"C:/Users/katsuya2/OneDrive - University of Illinois - Urbana/Documents/Python Scripts/my_packages\")\n",
    "plt.style.use(Path(style_p, 'my_rc_setting.mplstyle'))\n",
    "import Lorentzian"
   ]
  },
  {
   "cell_type": "markdown",
   "id": "9274e651-74cd-4bf3-af40-b9a63978c6e4",
   "metadata": {},
   "source": [
    "## create dataframe"
   ]
  },
  {
   "cell_type": "code",
   "execution_count": 2,
   "id": "bad15cf8-e3cf-4f1d-aa05-6dcaf30338bd",
   "metadata": {
    "tags": []
   },
   "outputs": [],
   "source": [
    "filepath = glob(\"//samba.campuscluster.illinois.edu/illinois-flandes/Katsuya Shiratori/00_projects/datasets/Al2O3_dataset1/*.csv\")\n",
    "filename = [p.split('\\\\')[-1] for p in glob(\"//samba.campuscluster.illinois.edu/illinois-flandes/Katsuya Shiratori/00_projects/datasets/Al2O3_dataset1/*.csv\")]"
   ]
  },
  {
   "cell_type": "code",
   "execution_count": 3,
   "id": "1ce8bd82-8e4b-47e8-98f8-bd5d8f006a5f",
   "metadata": {
    "tags": []
   },
   "outputs": [
    {
     "name": "stderr",
     "output_type": "stream",
     "text": [
      "100%|██████████| 22/22 [00:01<00:00, 21.11it/s]\n"
     ]
    }
   ],
   "source": [
    "for i in tqdm(range(len(filepath))):\n",
    "    # read the ith particle spctrum\n",
    "    spectrum_df = pd.read_csv(filepath[i])\n",
    "    \n",
    "    # Lorentzian fitting\n",
    "    fitting_range = np.linspace(min(spectrum_df['exp_ene']), max(spectrum_df['exp_ene']), len(spectrum_df['exp_ene']))\n",
    "    max_int, e_res, linewidth = Lorentzian.lorentzian(spectrum_df['exp_ene'], spectrum_df['exp_dfs'])\n",
    "    fitting = Lorentzian.func(fitting_range, max_int, e_res, linewidth)\n",
    "    \n",
    "    # particle geometry information\n",
    "    filename_tmp = '_' + filename[i] \n",
    "    p = r'_(.*?)_'  # regular expression to get strings between _**_\n",
    "    extracted_list = re.findall(p, filename_tmp)\n",
    "    width = float(extracted_list[1])\n",
    "    length = float(extracted_list[2])\n",
    "    aspectratio = length / width\n",
    "    volume = np.pi*(width**2)*length/4 - np.pi*(width**3)/12\n",
    "    surface = np.pi * width * length\n",
    "    \n",
    "    particle_dict = {'exp_ene': list(spectrum_df['exp_ene']),\n",
    "                 'exp_dfs': list(spectrum_df['exp_dfs']),\n",
    "                 'fitting': list(fitting),\n",
    "                 'imax': max_int,\n",
    "                 'eres': e_res,\n",
    "                 'linewidth': abs(linewidth),  # why is it negative?\n",
    "                 'width': width,\n",
    "                 'length': length,\n",
    "                 'aspect_ratio': aspectratio,\n",
    "                 'volume': volume,\n",
    "                 'surface_area': surface\n",
    "    }\n",
    "\n",
    "    if i == 0:  # first row\n",
    "        row = pd.DataFrame([particle_dict])\n",
    "    else:  # add one row after another\n",
    "        new_row = pd.DataFrame([particle_dict])\n",
    "        exp_data = pd.concat([row, new_row], axis=0, ignore_index=True)\n",
    "        row = exp_data"
   ]
  },
  {
   "cell_type": "code",
   "execution_count": 4,
   "id": "3c21d208-f776-4fa0-8995-4039ff49ff5f",
   "metadata": {
    "tags": []
   },
   "outputs": [
    {
     "data": {
      "text/html": [
       "<div>\n",
       "<style scoped>\n",
       "    .dataframe tbody tr th:only-of-type {\n",
       "        vertical-align: middle;\n",
       "    }\n",
       "\n",
       "    .dataframe tbody tr th {\n",
       "        vertical-align: top;\n",
       "    }\n",
       "\n",
       "    .dataframe thead th {\n",
       "        text-align: right;\n",
       "    }\n",
       "</style>\n",
       "<table border=\"1\" class=\"dataframe\">\n",
       "  <thead>\n",
       "    <tr style=\"text-align: right;\">\n",
       "      <th></th>\n",
       "      <th>exp_ene</th>\n",
       "      <th>exp_dfs</th>\n",
       "      <th>fitting</th>\n",
       "      <th>imax</th>\n",
       "      <th>eres</th>\n",
       "      <th>linewidth</th>\n",
       "      <th>width</th>\n",
       "      <th>length</th>\n",
       "      <th>aspect_ratio</th>\n",
       "      <th>volume</th>\n",
       "      <th>surface_area</th>\n",
       "    </tr>\n",
       "  </thead>\n",
       "  <tbody>\n",
       "    <tr>\n",
       "      <th>0</th>\n",
       "      <td>[3.19442480090624, 3.18785573983687, 3.1813143...</td>\n",
       "      <td>[0.0628966697562936, -0.0367280324681221, 0.03...</td>\n",
       "      <td>[0.020316555312092408, 0.020720729366267506, 0...</td>\n",
       "      <td>0.753496</td>\n",
       "      <td>1.645941</td>\n",
       "      <td>0.089823</td>\n",
       "      <td>21.3863</td>\n",
       "      <td>74.1387</td>\n",
       "      <td>3.466645</td>\n",
       "      <td>24071.346063</td>\n",
       "      <td>4981.160022</td>\n",
       "    </tr>\n",
       "    <tr>\n",
       "      <th>1</th>\n",
       "      <td>[3.19442480090624, 3.18785573983687, 3.1813143...</td>\n",
       "      <td>[0.0585041731249723, 0.0559201326598771, 0.023...</td>\n",
       "      <td>[0.013728692838350444, 0.013949424611931936, 0...</td>\n",
       "      <td>0.902710</td>\n",
       "      <td>1.713078</td>\n",
       "      <td>0.083742</td>\n",
       "      <td>21.7862</td>\n",
       "      <td>82.1815</td>\n",
       "      <td>3.772181</td>\n",
       "      <td>27928.482419</td>\n",
       "      <td>5624.778472</td>\n",
       "    </tr>\n",
       "    <tr>\n",
       "      <th>2</th>\n",
       "      <td>[3.19442480090624, 3.18785573983687, 3.1813143...</td>\n",
       "      <td>[0.0611797981318337, -0.126043510355307, -0.11...</td>\n",
       "      <td>[0.009528063735215388, 0.009661947175858622, 0...</td>\n",
       "      <td>0.843499</td>\n",
       "      <td>1.762634</td>\n",
       "      <td>0.082622</td>\n",
       "      <td>21.5302</td>\n",
       "      <td>85.3105</td>\n",
       "      <td>3.962364</td>\n",
       "      <td>28446.233517</td>\n",
       "      <td>5770.326989</td>\n",
       "    </tr>\n",
       "    <tr>\n",
       "      <th>3</th>\n",
       "      <td>[3.19442480090624, 3.18785573983687, 3.1813143...</td>\n",
       "      <td>[0.0458309137775647, 0.0203669646788963, 0.050...</td>\n",
       "      <td>[0.0064548775635296955, 0.006531512993041401, ...</td>\n",
       "      <td>0.718233</td>\n",
       "      <td>1.833903</td>\n",
       "      <td>0.087184</td>\n",
       "      <td>21.6930</td>\n",
       "      <td>75.7568</td>\n",
       "      <td>3.492223</td>\n",
       "      <td>25326.969552</td>\n",
       "      <td>5162.869059</td>\n",
       "    </tr>\n",
       "    <tr>\n",
       "      <th>4</th>\n",
       "      <td>[3.19442480090624, 3.18785573983687, 3.1813143...</td>\n",
       "      <td>[0.0540556961300742, 0.226357436739791, -0.023...</td>\n",
       "      <td>[0.01973909290455272, 0.020133515592107163, 0....</td>\n",
       "      <td>0.777121</td>\n",
       "      <td>1.645204</td>\n",
       "      <td>0.086873</td>\n",
       "      <td>21.0367</td>\n",
       "      <td>81.0359</td>\n",
       "      <td>3.852120</td>\n",
       "      <td>25728.573164</td>\n",
       "      <td>5355.560702</td>\n",
       "    </tr>\n",
       "  </tbody>\n",
       "</table>\n",
       "</div>"
      ],
      "text/plain": [
       "                                             exp_ene  \\\n",
       "0  [3.19442480090624, 3.18785573983687, 3.1813143...   \n",
       "1  [3.19442480090624, 3.18785573983687, 3.1813143...   \n",
       "2  [3.19442480090624, 3.18785573983687, 3.1813143...   \n",
       "3  [3.19442480090624, 3.18785573983687, 3.1813143...   \n",
       "4  [3.19442480090624, 3.18785573983687, 3.1813143...   \n",
       "\n",
       "                                             exp_dfs  \\\n",
       "0  [0.0628966697562936, -0.0367280324681221, 0.03...   \n",
       "1  [0.0585041731249723, 0.0559201326598771, 0.023...   \n",
       "2  [0.0611797981318337, -0.126043510355307, -0.11...   \n",
       "3  [0.0458309137775647, 0.0203669646788963, 0.050...   \n",
       "4  [0.0540556961300742, 0.226357436739791, -0.023...   \n",
       "\n",
       "                                             fitting      imax      eres  \\\n",
       "0  [0.020316555312092408, 0.020720729366267506, 0...  0.753496  1.645941   \n",
       "1  [0.013728692838350444, 0.013949424611931936, 0...  0.902710  1.713078   \n",
       "2  [0.009528063735215388, 0.009661947175858622, 0...  0.843499  1.762634   \n",
       "3  [0.0064548775635296955, 0.006531512993041401, ...  0.718233  1.833903   \n",
       "4  [0.01973909290455272, 0.020133515592107163, 0....  0.777121  1.645204   \n",
       "\n",
       "   linewidth    width   length  aspect_ratio        volume  surface_area  \n",
       "0   0.089823  21.3863  74.1387      3.466645  24071.346063   4981.160022  \n",
       "1   0.083742  21.7862  82.1815      3.772181  27928.482419   5624.778472  \n",
       "2   0.082622  21.5302  85.3105      3.962364  28446.233517   5770.326989  \n",
       "3   0.087184  21.6930  75.7568      3.492223  25326.969552   5162.869059  \n",
       "4   0.086873  21.0367  81.0359      3.852120  25728.573164   5355.560702  "
      ]
     },
     "execution_count": 4,
     "metadata": {},
     "output_type": "execute_result"
    }
   ],
   "source": [
    "exp_data.head()"
   ]
  },
  {
   "cell_type": "code",
   "execution_count": 8,
   "id": "97cc8740-6191-43db-82db-40be78ff01d9",
   "metadata": {
    "tags": []
   },
   "outputs": [],
   "source": [
    "exp_data.to_csv('080624_Zhenyang_exp_al2o3_1.csv', index=False)"
   ]
  },
  {
   "cell_type": "code",
   "execution_count": 7,
   "id": "762991bf-3e2a-4d15-8917-556266bcf129",
   "metadata": {
    "tags": []
   },
   "outputs": [
    {
     "name": "stdout",
     "output_type": "stream",
     "text": [
      "22.150004545454546 78.1096090909091\n",
      "0.8998678508681006 5.793683940777899\n"
     ]
    },
    {
     "data": {
      "image/png": "[encoded data removed]",
      "text/plain": [
       "<Figure size 800x600 with 1 Axes>"
      ]
     },
     "metadata": {},
     "output_type": "display_data"
    }
   ],
   "source": [
    "plt.scatter(exp_data['width'], exp_data['length'])\n",
    "print(exp_data['width'].mean(), exp_data['length'].mean())\n",
    "print(exp_data['width'].std(), exp_data['length'].std())"
   ]
  },
  {
   "cell_type": "code",
   "execution_count": null,
   "id": "31b484c8-c2ae-405d-acd7-a940f37e7124",
   "metadata": {},
   "outputs": [],
   "source": []
  }
 ],
 "metadata": {
  "kernelspec": {
   "display_name": "Python 3 (ipykernel)",
   "language": "python",
   "name": "python3"
  },
  "language_info": {
   "codemirror_mode": {
    "name": "ipython",
    "version": 3
   },
   "file_extension": ".py",
   "mimetype": "text/x-python",
   "name": "python",
   "nbconvert_exporter": "python",
   "pygments_lexer": "ipython3",
   "version": "3.11.5"
  }
 },
 "nbformat": 4,
 "nbformat_minor": 5
}
