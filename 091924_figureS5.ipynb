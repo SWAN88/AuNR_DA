{
 "cells": [
  {
   "cell_type": "markdown",
   "id": "09956f4e-953c-45d0-aeae-530de3205e36",
   "metadata": {},
   "source": [
    "# AuNRs DA Figure S5"
   ]
  },
  {
   "cell_type": "code",
   "execution_count": null,
   "id": "6ab8653b-c9e2-45a3-81c6-74c0a8e0d911",
   "metadata": {},
   "outputs": [],
   "source": [
    "import sys\n",
    "# add path for my packages\n",
    "sys.path.append('C:\\\\Users\\\\katsuya2\\\\OneDrive - University of Illinois - Urbana\\\\Documents\\\\Python Scripts\\\\my_packages')\n",
    "import numpy as np\n",
    "import pandas as pd\n",
    "import matplotlib.pyplot as plt\n",
    "import shap\n",
    "from matplotlib import cm\n",
    "from tqdm import tqdm\n",
    "from pathlib import Path\n",
    "from sklearn.model_selection import GridSearchCV\n",
    "from sklearn.metrics import mean_squared_error, mean_absolute_error\n",
    "from sklearn.tree import DecisionTreeRegressor\n",
    "\n",
    "%precision 3\n",
    "%matplotlib inline\n",
    "\n",
    "# use my matplotlib style\n",
    "style_p = Path(\"C:/Users/katsuya2/OneDrive - University of Illinois - Urbana/Documents/Python Scripts/my_packages\")\n",
    "plt.style.use(Path(style_p, 'my_rc_setting.mplstyle'))"
   ]
  }
 ],
 "metadata": {
  "kernelspec": {
   "display_name": "Python 3 (ipykernel)",
   "language": "python",
   "name": "python3"
  },
  "language_info": {
   "codemirror_mode": {
    "name": "ipython",
    "version": 3
   },
   "file_extension": ".py",
   "mimetype": "text/x-python",
   "name": "python",
   "nbconvert_exporter": "python",
   "pygments_lexer": "ipython3",
   "version": "3.11.5"
  }
 },
 "nbformat": 4,
 "nbformat_minor": 5
}
